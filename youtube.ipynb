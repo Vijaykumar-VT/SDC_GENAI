{
  "nbformat": 4,
  "nbformat_minor": 0,
  "metadata": {
    "colab": {
      "provenance": [],
      "authorship_tag": "ABX9TyON7cf4o9+FcrQ5mWROMyXO",
      "include_colab_link": true
    },
    "kernelspec": {
      "name": "python3",
      "display_name": "Python 3"
    },
    "language_info": {
      "name": "python"
    }
  },
  "cells": [
    {
      "cell_type": "markdown",
      "metadata": {
        "id": "view-in-github",
        "colab_type": "text"
      },
      "source": [
        "<a href=\"https://colab.research.google.com/github/Vijaykumar-VT/SDC_GENAI/blob/main/youtube.ipynb\" target=\"_parent\"><img src=\"https://colab.research.google.com/assets/colab-badge.svg\" alt=\"Open In Colab\"/></a>"
      ]
    },
    {
      "cell_type": "code",
      "execution_count": null,
      "metadata": {
        "id": "t2ALSxaFLs9S"
      },
      "outputs": [],
      "source": []
    },
    {
      "cell_type": "code",
      "source": [
        "# Auto-install missing packages\n",
        "import os\n",
        "\n",
        "try:\n",
        "    from youtube_transcript_api import YouTubeTranscriptApi\n",
        "except ImportError:\n",
        "    os.system(\"pip install youtube-transcript-api\")\n",
        "\n",
        "try:\n",
        "    from langchain_community.vectorstores import FAISS\n",
        "    from langchain_community.embeddings import OpenAIEmbeddings\n",
        "    from langchain.text_splitter import RecursiveCharacterTextSplitter\n",
        "    from langchain.chat_models import ChatOpenAI\n",
        "    from langchain.chains import RetrievalQA\n",
        "except ImportError:\n",
        "    os.system(\"pip install -U langchain langchain-community faiss-cpu openai\")\n",
        "\n",
        "# Re-import after installation\n",
        "from youtube_transcript_api import YouTubeTranscriptApi\n",
        "from langchain_community.vectorstores import FAISS\n",
        "from langchain_community.embeddings import OpenAIEmbeddings\n",
        "from langchain.text_splitter import RecursiveCharacterTextSplitter\n",
        "from langchain.chat_models import ChatOpenAI\n",
        "from langchain.chains import RetrievalQA\n",
        "\n",
        "# Set your OpenAI API key\n",
        "os.environ[\"OPENAI_API_KEY\"] = \"your-openai-api-key\"  # Replace with your actual key\n",
        "\n",
        "def get_transcript(video_url):\n",
        "    try:\n",
        "        video_id = video_url.split(\"v=\")[-1]\n",
        "        transcript = YouTubeTranscriptApi.get_transcript(video_id)\n",
        "        return \" \".join([entry[\"text\"] for entry in transcript])\n",
        "    except Exception as e:\n",
        "        return f\"❌ Error retrieving transcript: {e}\"\n",
        "\n",
        "def split_text(text):\n",
        "    splitter = RecursiveCharacterTextSplitter(chunk_size=1000, chunk_overlap=100)\n",
        "    return splitter.split_text(text)\n",
        "\n",
        "def create_vectorstore(chunks):\n",
        "    embeddings = OpenAIEmbeddings()\n",
        "    return FAISS.from_texts(chunks, embeddings)\n",
        "\n",
        "def create_rag_chain(vstore):\n",
        "    retriever = vstore.as_retriever()\n",
        "    llm = ChatOpenAI(temperature=0)\n",
        "    return RetrievalQA.from_chain_type(llm=llm, retriever=retriever)\n",
        "\n",
        "def summarize_youtube_video(url):\n",
        "    transcript = get_transcript(url)\n",
        "    if transcript.startswith(\"❌\"):\n",
        "        return transcript\n",
        "    chunks = split_text(transcript)\n",
        "    vstore = create_vectorstore(chunks)\n",
        "    qa = create_rag_chain(vstore)\n",
        "    return qa.run(\"Summarize this YouTube video in simple terms.\")\n",
        "\n",
        "# === Run it ===\n",
        "if __name__ == \"__main__\":\n",
        "    url = input(\"🎥 Enter YouTube video URL: \")\n",
        "    summary = summarize_youtube_video(url)\n",
        "    print(\"\\n📄 Summary:\\n\", summary)\n"
      ],
      "metadata": {
        "id": "YCA-Uoio7NRv"
      },
      "execution_count": null,
      "outputs": []
    }
  ]
}