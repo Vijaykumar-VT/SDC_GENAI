{
  "nbformat": 4,
  "nbformat_minor": 0,
  "metadata": {
    "colab": {
      "provenance": [],
      "authorship_tag": "ABX9TyNaO1m0BaC6HDa3i0DQ2WNg",
      "include_colab_link": true
    },
    "kernelspec": {
      "name": "python3",
      "display_name": "Python 3"
    },
    "language_info": {
      "name": "python"
    }
  },
  "cells": [
    {
      "cell_type": "markdown",
      "metadata": {
        "id": "view-in-github",
        "colab_type": "text"
      },
      "source": [
        "<a href=\"https://colab.research.google.com/github/Vijaykumar-VT/SDC_GENAI/blob/main/Untitled4.ipynb\" target=\"_parent\"><img src=\"https://colab.research.google.com/assets/colab-badge.svg\" alt=\"Open In Colab\"/></a>"
      ]
    },
    {
      "cell_type": "code",
      "execution_count": 1,
      "metadata": {
        "colab": {
          "base_uri": "https://localhost:8080/"
        },
        "id": "COPhevu8lPG7",
        "outputId": "8f6ae8d5-b2a0-4e0c-a425-b44e509dd42b"
      },
      "outputs": [
        {
          "output_type": "stream",
          "name": "stdout",
          "text": [
            "Prediction (1 = Will buy, 0 = Won't buy): 0\n",
            "Probability of buying: 0.15\n"
          ]
        }
      ],
      "source": [
        "# Import libraries\n",
        "import numpy as np\n",
        "from sklearn.ensemble import RandomForestClassifier\n",
        "import matplotlib.pyplot as plt\n",
        "\n",
        "# Sample data: [Age, Salary]\n",
        "X = np.array([\n",
        "    [22, 15000],\n",
        "    [25, 18000],\n",
        "    [28, 20000],\n",
        "    [35, 40000],\n",
        "    [40, 50000],\n",
        "    [45, 60000],\n",
        "    [50, 65000],\n",
        "    [60, 70000]\n",
        "])\n",
        "y = np.array([0, 0, 0, 1, 1, 1, 1, 1])  # 0 = No, 1 = Yes (Did they buy?)\n",
        "\n",
        "# Create and train the model\n",
        "model = RandomForestClassifier(n_estimators=100, random_state=42)\n",
        "model.fit(X, y)\n",
        "\n",
        "# Make a prediction: Will a 30-year-old with $30,000 salary buy?\n",
        "prediction = model.predict([[30, 30000]])\n",
        "print(\"Prediction (1 = Will buy, 0 = Won't buy):\", prediction[0])\n",
        "\n",
        "# Optional: See the probability\n",
        "prob = model.predict_proba([[30, 30000]])[0][1]\n",
        "print(f\"Probability of buying: {prob:.2f}\")\n"
      ]
    }
  ]
}